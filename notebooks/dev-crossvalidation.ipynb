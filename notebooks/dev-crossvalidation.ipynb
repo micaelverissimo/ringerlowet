{
 "cells": [
  {
   "cell_type": "code",
   "execution_count": 2,
   "metadata": {},
   "outputs": [],
   "source": [
    "import numpy as np\n",
    "from models import create_mlp_model"
   ]
  },
  {
   "cell_type": "markdown",
   "metadata": {},
   "source": [
    "### Load iris data set just for test."
   ]
  },
  {
   "cell_type": "code",
   "execution_count": 15,
   "metadata": {},
   "outputs": [],
   "source": [
    "from sklearn.datasets import load_iris\n",
    "from keras.utils import to_categorical\n",
    "\n",
    "iris = load_iris()\n",
    "X = iris['data']\n",
    "y = iris['target']\n",
    "# create the sparse target\n",
    "y_sparse = to_categorical(y)\n",
    "\n",
    "names = iris['target_names']\n",
    "feature_names = iris['feature_names']"
   ]
  },
  {
   "cell_type": "code",
   "execution_count": 17,
   "metadata": {},
   "outputs": [
    {
     "data": {
      "text/plain": [
       "array([[1., 0., 0.],\n",
       "       [1., 0., 0.],\n",
       "       [1., 0., 0.]], dtype=float32)"
      ]
     },
     "execution_count": 17,
     "metadata": {},
     "output_type": "execute_result"
    }
   ],
   "source": [
    "y_sparse[:3]"
   ]
  },
  {
   "cell_type": "markdown",
   "metadata": {},
   "source": [
    "### Create the cross-validation.\n"
   ]
  },
  {
   "cell_type": "code",
   "execution_count": 7,
   "metadata": {},
   "outputs": [
    {
     "name": "stdout",
     "output_type": "stream",
     "text": [
      "StratifiedKFold(n_splits=10, random_state=17, shuffle=True)\n"
     ]
    }
   ],
   "source": [
    "from sklearn.model_selection import StratifiedKFold\n",
    "\n",
    "n_folds = 10\n",
    "\n",
    "skf = StratifiedKFold(n_splits=n_folds, random_state=17, shuffle=True)\n",
    "\n",
    "print(skf)"
   ]
  },
  {
   "cell_type": "code",
   "execution_count": 12,
   "metadata": {},
   "outputs": [
    {
     "name": "stdout",
     "output_type": "stream",
     "text": [
      "Number of folds 10; each fold has 2 types os indices, train and test\n"
     ]
    }
   ],
   "source": [
    "# split the data set\n",
    "train_test_indices = list(skf.split(X,y))\n",
    "print('Number of folds %i; each fold has %i types os indices, train and test' %(len(train_test_indices),\n",
    "                                                                               len(train_test_indices[0])))"
   ]
  },
  {
   "cell_type": "markdown",
   "metadata": {},
   "source": [
    "### Train the model using the cross-validation and make $n$ initialization in order to avoid the local minima."
   ]
  },
  {
   "cell_type": "code",
   "execution_count": 14,
   "metadata": {},
   "outputs": [],
   "source": [
    "# try only a few initialization\n",
    "n_inits = 5\n",
    "\n",
    "# ======== hidden layer configuration ========================\n",
    "number_of_hidden_layers = 1 # number of hidden layers in the model\n",
    "hidden_layer_neurons = 5 # hiddem layer neurons\n",
    "hidden_layer_act_function = 'relu' # the activation function\n",
    "\n",
    "# ======== output layer configuration ========================\n",
    "output_layer_neurons = 3 # there are 3 classes\n",
    "output_layer_act_function = 'softmax' # output activate function\n",
    "\n",
    "#======== compile model parameters ===========================\n",
    "optimizer = 'adam' # there are some others but this is the mostly used\n",
    "loss_function = 'sparse_categorical_crossentropy' # we have prepared the y making then sparse"
   ]
  },
  {
   "cell_type": "code",
   "execution_count": 34,
   "metadata": {},
   "outputs": [
    {
     "name": "stdout",
     "output_type": "stream",
     "text": [
      "Training in the Fold: 1 | Init: 1\n",
      "WARNING:tensorflow:From /home/micaelverissimo/anaconda3/envs/my_devs/lib/python3.7/site-packages/tensorflow/python/framework/op_def_library.py:263: colocate_with (from tensorflow.python.framework.ops) is deprecated and will be removed in a future version.\n",
      "Instructions for updating:\n",
      "Colocations handled automatically by placer.\n",
      "Training in the Fold: 1 | Init: 2\n",
      "Training in the Fold: 1 | Init: 3\n",
      "Training in the Fold: 1 | Init: 4\n",
      "Training in the Fold: 1 | Init: 5\n",
      "Training in the Fold: 2 | Init: 1\n",
      "Training in the Fold: 2 | Init: 2\n",
      "Training in the Fold: 2 | Init: 3\n",
      "Training in the Fold: 2 | Init: 4\n",
      "Training in the Fold: 2 | Init: 5\n",
      "Training in the Fold: 3 | Init: 1\n",
      "Training in the Fold: 3 | Init: 2\n",
      "Training in the Fold: 3 | Init: 3\n",
      "Training in the Fold: 3 | Init: 4\n",
      "Training in the Fold: 3 | Init: 5\n",
      "Training in the Fold: 4 | Init: 1\n",
      "Training in the Fold: 4 | Init: 2\n",
      "Training in the Fold: 4 | Init: 3\n",
      "Training in the Fold: 4 | Init: 4\n",
      "Training in the Fold: 4 | Init: 5\n",
      "Training in the Fold: 5 | Init: 1\n",
      "Training in the Fold: 5 | Init: 2\n",
      "Training in the Fold: 5 | Init: 3\n",
      "Training in the Fold: 5 | Init: 4\n",
      "Training in the Fold: 5 | Init: 5\n",
      "Training in the Fold: 6 | Init: 1\n",
      "Training in the Fold: 6 | Init: 2\n",
      "Training in the Fold: 6 | Init: 3\n",
      "Training in the Fold: 6 | Init: 4\n",
      "Training in the Fold: 6 | Init: 5\n",
      "Training in the Fold: 7 | Init: 1\n",
      "Training in the Fold: 7 | Init: 2\n",
      "Training in the Fold: 7 | Init: 3\n",
      "Training in the Fold: 7 | Init: 4\n",
      "Training in the Fold: 7 | Init: 5\n",
      "Training in the Fold: 8 | Init: 1\n",
      "Training in the Fold: 8 | Init: 2\n",
      "Training in the Fold: 8 | Init: 3\n",
      "Training in the Fold: 8 | Init: 4\n",
      "Training in the Fold: 8 | Init: 5\n",
      "Training in the Fold: 9 | Init: 1\n",
      "Training in the Fold: 9 | Init: 2\n",
      "Training in the Fold: 9 | Init: 3\n",
      "Training in the Fold: 9 | Init: 4\n",
      "Training in the Fold: 9 | Init: 5\n",
      "Training in the Fold: 10 | Init: 1\n",
      "Training in the Fold: 10 | Init: 2\n",
      "Training in the Fold: 10 | Init: 3\n",
      "Training in the Fold: 10 | Init: 4\n",
      "Training in the Fold: 10 | Init: 5\n"
     ]
    }
   ],
   "source": [
    "from sklearn.preprocessing import StandardScaler\n",
    "\n",
    "best_acc = 0.0\n",
    "\n",
    "for idx, ifold in enumerate(train_test_indices):\n",
    "    train_id, test_id = ifold[0], ifold[1]\n",
    "    for init in range(n_inits):\n",
    "        print('Training in the Fold: %i | Init: %i' %(idx+1, init+1))\n",
    "        # create a scaler to prepare the data and fit using only the train data\n",
    "        scl_factor = StandardScaler()\n",
    "        scl_factor.fit(X[train_id])\n",
    "        # transform all data\n",
    "        X_norm = scl_factor.transform(X)\n",
    "        \n",
    "        model = create_mlp_model(input_dim=X_norm.shape[1], output_dim=output_layer_neurons,\n",
    "                                 n_neurons=hidden_layer_neurons, n_layers=number_of_hidden_layers,\n",
    "                                 hl_act_func=hidden_layer_act_function,\n",
    "                                 ol_act_func=output_layer_act_function,\n",
    "                                 loss_func=loss_function,\n",
    "                                 optimizer=optimizer,\n",
    "                                 name='model_fold{}_init{}'.format(idx+1, init+1)\n",
    "                                )\n",
    "        \n",
    "        train_evo = model.fit(X_norm[train_id], y_sparse[train_id])"
   ]
  }
 ],
 "metadata": {
  "kernelspec": {
   "display_name": "Python 3",
   "language": "python",
   "name": "python3"
  },
  "language_info": {
   "codemirror_mode": {
    "name": "ipython",
    "version": 3
   },
   "file_extension": ".py",
   "mimetype": "text/x-python",
   "name": "python",
   "nbconvert_exporter": "python",
   "pygments_lexer": "ipython3",
   "version": "3.7.3"
  }
 },
 "nbformat": 4,
 "nbformat_minor": 2
}
